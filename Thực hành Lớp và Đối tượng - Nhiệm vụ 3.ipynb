{
 "cells": [
  {
   "cell_type": "code",
   "execution_count": null,
   "id": "a42fa0c7",
   "metadata": {},
   "outputs": [],
   "source": [
    "\"\"\"\n",
    "Tạo class có tên Equation gồm có các thuộc tính và phương thức sau:\n",
    "+ Thuộc tính: number1, number2\n",
    "+ Phương thức:\n",
    "- Phương thức tạo __init()__\n",
    "- print_info(): dùng để hiển thị number1, number2\n",
    "- add(): dùng để cộng number1, number2\n",
    "- subtract(): trừ number1, number2\n",
    "- multiply(): dùng để nhân number1, number2\n",
    "- divide(): dùng để chia number1, number2.\n",
    "\n",
    "Sau khi tạo class, khởi tạo một object Equation và in ra kết quả tính toán từ các hàm thực hiện phép tính\n",
    "\"\"\""
   ]
  },
  {
   "cell_type": "code",
   "execution_count": 1,
   "id": "001bfd7a",
   "metadata": {},
   "outputs": [],
   "source": [
    "class Equation:\n",
    "    def __init__(self, number1, number2):\n",
    "        self.number1 = number1\n",
    "        self.number2 = number2\n",
    "    \n",
    "    def print_info(self):\n",
    "        print(f\"Number 1: {self.number1}\")\n",
    "        print(f\"Number 2: {self.number2}\")\n",
    "\n",
    "    def add(self):\n",
    "        return self.number1 + self.number2\n",
    "\n",
    "    def subtract(self):\n",
    "        return self.number1 - self.number2\n",
    "\n",
    "    def multiply(self):\n",
    "        return self.number1 * self.number2\n",
    "\n",
    "    def divide(self):\n",
    "        if self.number2 != 0:\n",
    "            return self.number1 / self.number2\n",
    "        else:\n",
    "            return \"Error\""
   ]
  },
  {
   "cell_type": "code",
   "execution_count": 2,
   "id": "4c78ea79",
   "metadata": {},
   "outputs": [
    {
     "name": "stdout",
     "output_type": "stream",
     "text": [
      "Number 1: 20\n",
      "Number 2: 4\n",
      "24\n",
      "16\n",
      "80\n",
      "5.0\n"
     ]
    }
   ],
   "source": [
    "a = Equation(20,4)\n",
    "a.print_info()\n",
    "print(a.add())\n",
    "print(a.subtract())\n",
    "print(a.multiply())\n",
    "print(a.divide())"
   ]
  },
  {
   "cell_type": "code",
   "execution_count": null,
   "id": "349a68d8",
   "metadata": {},
   "outputs": [],
   "source": []
  }
 ],
 "metadata": {
  "kernelspec": {
   "display_name": "Python 3 (ipykernel)",
   "language": "python",
   "name": "python3"
  },
  "language_info": {
   "codemirror_mode": {
    "name": "ipython",
    "version": 3
   },
   "file_extension": ".py",
   "mimetype": "text/x-python",
   "name": "python",
   "nbconvert_exporter": "python",
   "pygments_lexer": "ipython3",
   "version": "3.12.3"
  }
 },
 "nbformat": 4,
 "nbformat_minor": 5
}
