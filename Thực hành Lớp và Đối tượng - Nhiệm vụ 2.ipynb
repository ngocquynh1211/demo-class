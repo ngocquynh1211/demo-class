{
 "cells": [
  {
   "cell_type": "code",
   "execution_count": null,
   "id": "1b7705b3",
   "metadata": {},
   "outputs": [],
   "source": [
    "\"\"\"\n",
    "Viết class NhanVien gồm các thuộc tính:\n",
    "+ Tên\n",
    "+ Tuổi\n",
    "+ Địa chỉ\n",
    "+ Tiền lương\n",
    "+ Tổng số giờ làm\n",
    "\n",
    "Và các phương thức:\n",
    "- Phương thức __init__()\n",
    "- print_info() : In ra tất cả các thông tin của nhân viên\n",
    "- tinh_thuong(): Tính toán và trả về số tiền thưởng của nhân viên theo công thức sau:\n",
    "Nếu tổng số giờ làm của nhân viên >=200 thì thưởng = lương * 20%\n",
    "Nếu tổng số giờ làm của nhân viên <200 và >=100 thì thưởng = lương * 10%\n",
    "Nếu tổng số giờ làm của nhân viên <100 thì thưởng = 0\n",
    "\"\"\""
   ]
  },
  {
   "cell_type": "code",
   "execution_count": 1,
   "id": "3cf0f41d",
   "metadata": {},
   "outputs": [],
   "source": [
    "class NhanVien:\n",
    "    def __init__(self, ten, tuoi, dia_chi, luong, tong_so_gio_lam):\n",
    "        self.ten = ten\n",
    "        self.tuoi = tuoi\n",
    "        self.dia_chi = dia_chi\n",
    "        self.luong = luong\n",
    "        self.tong_so_gio_lam = tong_so_gio_lam\n",
    "    \n",
    "    def print_info(self):\n",
    "        print(f\"Tên: {self.ten}\")\n",
    "        print(f\"Tuổi: {self.tuoi}\")\n",
    "        print(f\"Địa chỉ: {self.dia_chi}\")\n",
    "        print(f\"Lương: {self.luong}\")\n",
    "        print(f\"Tổng số giờ làm: {self.tong_so_gio_lam}\")\n",
    "\n",
    "    def tinh_thuong(self):\n",
    "        if self.tong_so_gio_lam >= 200:\n",
    "            return self.luong * 0.2\n",
    "        elif self.tong_so_gio_lam >= 100:\n",
    "            return self.luong * 0.1\n",
    "        else:\n",
    "            return 0"
   ]
  },
  {
   "cell_type": "code",
   "execution_count": 2,
   "id": "a0be50d8",
   "metadata": {},
   "outputs": [
    {
     "name": "stdout",
     "output_type": "stream",
     "text": [
      "Tên: A\n",
      "Tuổi: 25\n",
      "Địa chỉ: Hà Nội\n",
      "Lương: 10000000\n",
      "Tổng số giờ làm: 220\n",
      "2000000.0\n"
     ]
    }
   ],
   "source": [
    "nhan_vien1 = NhanVien(\"A\", 25, \"Hà Nội\", 10000000, 220)\n",
    "nhan_vien1.print_info()\n",
    "print(nhan_vien1.tinh_thuong())"
   ]
  },
  {
   "cell_type": "code",
   "execution_count": 3,
   "id": "c2fa82d8",
   "metadata": {},
   "outputs": [
    {
     "name": "stdout",
     "output_type": "stream",
     "text": [
      "Tên: B\n",
      "Tuổi: 28\n",
      "Địa chỉ: Hải Phòng\n",
      "Lương: 12000000\n",
      "Tổng số giờ làm: 180\n",
      "1200000.0\n"
     ]
    }
   ],
   "source": [
    "nhan_vien2 = NhanVien(\"B\", 28, \"Hải Phòng\", 12000000, 180)\n",
    "nhan_vien2.print_info()\n",
    "print(nhan_vien2.tinh_thuong())"
   ]
  },
  {
   "cell_type": "code",
   "execution_count": null,
   "id": "92bebe5a",
   "metadata": {},
   "outputs": [],
   "source": []
  }
 ],
 "metadata": {
  "kernelspec": {
   "display_name": "Python 3 (ipykernel)",
   "language": "python",
   "name": "python3"
  },
  "language_info": {
   "codemirror_mode": {
    "name": "ipython",
    "version": 3
   },
   "file_extension": ".py",
   "mimetype": "text/x-python",
   "name": "python",
   "nbconvert_exporter": "python",
   "pygments_lexer": "ipython3",
   "version": "3.12.3"
  }
 },
 "nbformat": 4,
 "nbformat_minor": 5
}
